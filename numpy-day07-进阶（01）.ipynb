{
 "cells": [
  {
   "attachments": {},
   "cell_type": "markdown",
   "metadata": {},
   "source": [
    "## 本节重点\n",
    "- 归一化\n",
    "- 随机数组生成\n",
    "- 矩阵乘法\n",
    "- 分桶\n",
    "- 寻找常见值\n",
    "- 相关性"
   ]
  },
  {
   "attachments": {},
   "cell_type": "markdown",
   "metadata": {},
   "source": [
    "### 1 对一个`5x5`的随机矩阵做归一化\n",
    "\n",
    "- **提示**: `(x - min) / (max - min)`\n",
    "\n",
    "**答案：**"
   ]
  },
  {
   "cell_type": "code",
   "execution_count": 24,
   "metadata": {},
   "outputs": [
    {
     "name": "stdout",
     "output_type": "stream",
     "text": [
      "[[12  7  1  7  2]\n",
      " [ 9 17 15  3 15]\n",
      " [11  1  5  3  7]\n",
      " [15 16  2  3  7]\n",
      " [18 14 13  6 14]]\n",
      "[[0.64705882 0.35294118 0.         0.35294118 0.05882353]\n",
      " [0.47058824 0.94117647 0.82352941 0.11764706 0.82352941]\n",
      " [0.58823529 0.         0.23529412 0.11764706 0.35294118]\n",
      " [0.82352941 0.88235294 0.05882353 0.11764706 0.35294118]\n",
      " [1.         0.76470588 0.70588235 0.29411765 0.76470588]]\n"
     ]
    }
   ],
   "source": [
    "import numpy as np\n",
    "Z = np.random.randint(1,20, size = 25).reshape(5,5)\n",
    "print(Z)\n",
    "\n",
    "Zmax, Zmin = Z.max(), Z.min()\n",
    "\n",
    "Z = (Z - Zmin)/(Zmax - Zmin)\n",
    "\n",
    "print(Z)"
   ]
  },
  {
   "attachments": {},
   "cell_type": "markdown",
   "metadata": {},
   "source": [
    "### 2. 如何创建包含5到10之间随机浮动的二维数组？\n",
    "\n",
    "- 描述：创建一个形状为5x3的二维数组，以包含5到10之间的随机十进制数。\n",
    "\n",
    "思路：\n",
    "- 1、randint 整数  \n",
    "- 2、uniform 小数 :https://www.runoob.com/python/func-number-uniform.html\n"
   ]
  },
  {
   "cell_type": "code",
   "execution_count": 10,
   "metadata": {},
   "outputs": [
    {
     "name": "stdout",
     "output_type": "stream",
     "text": [
      "[[8.26649977 7.92631513 5.59107195]\n",
      " [9.76596724 7.69357358 8.27915031]\n",
      " [5.95298481 6.68310318 6.47714153]\n",
      " [7.61699486 9.30780391 5.43461284]\n",
      " [7.71781739 8.63657438 8.50558535]]\n",
      "[[6.80323865 6.57725954 7.65375774]\n",
      " [9.13856344 5.39242335 6.12267076]\n",
      " [9.88852931 5.05057164 8.50637938]\n",
      " [7.61642264 9.27128843 5.20962936]\n",
      " [8.08427431 9.24712111 9.7709602 ]]\n"
     ]
    }
   ],
   "source": [
    "\n",
    "# Solution Method 1:\n",
    "rand_arr = np.random.randint(low=5, high=10, size=(5,3)) + np.random.random((5,3))\n",
    "print(rand_arr)\n",
    "\n",
    "# Solution Method 2:\n",
    "rand_arr = np.random.uniform(5,10, size=(5,3))\n",
    "print(rand_arr)\n",
    "# > [[ 8.50061025  9.10531502  6.85867783]\n",
    "# >  [ 9.76262069  9.87717411  7.13466701]\n",
    "# >  [ 7.48966403  8.33409158  6.16808631]\n",
    "# >  [ 7.75010551  9.94535696  5.27373226]\n",
    "# >  [ 8.0850361   5.56165518  7.31244004]]"
   ]
  },
  {
   "attachments": {},
   "cell_type": "markdown",
   "metadata": {},
   "source": [
    "### 3. 一个`5x3`的矩阵与一个`3x2`的矩阵相乘，实矩阵乘积是什么？ \n",
    "\n",
    "- **提示**: `np.dot`\n",
    "- 区别：np.multiply，np.dot\n",
    " \n",
    "\n",
    "答案："
   ]
  },
  {
   "cell_type": "code",
   "execution_count": 11,
   "metadata": {},
   "outputs": [
    {
     "name": "stdout",
     "output_type": "stream",
     "text": [
      "[[3. 3.]\n",
      " [3. 3.]\n",
      " [3. 3.]\n",
      " [3. 3.]\n",
      " [3. 3.]]\n"
     ]
    }
   ],
   "source": [
    "Z = np.dot(np.ones((5,3)), np.ones((3,2)))\n",
    "print(Z)"
   ]
  },
  {
   "attachments": {},
   "cell_type": "markdown",
   "metadata": {},
   "source": [
    "### 4. 如何将数字转换为分类（文本）数组？\n",
    "\n",
    "- 问题：将iris_2d的花瓣长度（第3列）加入以形成文本数组，这样如果花瓣长度为：\n",
    "    - Less than 3 --> 'small'\n",
    "    - 3-5 --> 'medium'\n",
    "    - '>=5 --> 'large'\n",
    "\n",
    "**给定：**\n",
    "\n",
    "```python\n",
    "#Input\n",
    "url = 'https://archive.ics.uci.edu/ml/machine-learning-databases/iris/iris.data'\n",
    "iris = np.genfromtxt(url, delimiter=',', dtype='object')\n",
    "names = ('sepallength', 'sepalwidth', 'petallength', 'petalwidth', 'species')\n",
    "'''"
   ]
  },
  {
   "cell_type": "code",
   "execution_count": 2,
   "metadata": {},
   "outputs": [],
   "source": [
    "import numpy as np\n",
    "# Input\n",
    "url = 'https://archive.ics.uci.edu/ml/machine-learning-databases/iris/iris.data'\n",
    "iris = np.genfromtxt(url, delimiter=',', dtype='object')\n",
    "names = ('sepallength', 'sepalwidth', 'petallength', 'petalwidth', 'species')\n"
   ]
  },
  {
   "cell_type": "code",
   "execution_count": 4,
   "metadata": {},
   "outputs": [
    {
     "data": {
      "text/plain": [
       "(150, 5)"
      ]
     },
     "execution_count": 4,
     "metadata": {},
     "output_type": "execute_result"
    }
   ],
   "source": [
    "#查看数据\n",
    "iris.shape"
   ]
  },
  {
   "cell_type": "code",
   "execution_count": 5,
   "metadata": {},
   "outputs": [
    {
     "data": {
      "text/plain": [
       "['small', 'small', 'small', 'small']"
      ]
     },
     "execution_count": 5,
     "metadata": {},
     "output_type": "execute_result"
    }
   ],
   "source": [
    "\n",
    "# Bin petallength \n",
    "petal_length_bin = np.digitize(iris[:, 2].astype('float'), [0, 3, 5, 10])\n",
    "\n",
    "# Map it to respective category\n",
    "label_map = {1: 'small', 2: 'medium', 3: 'large', 4: np.nan}\n",
    "petal_length_cat = [label_map[x] for x in petal_length_bin]\n",
    "\n",
    "# View\n",
    "petal_length_cat[:4]\n",
    "# > ['small', 'small', 'small', 'small']"
   ]
  },
  {
   "cell_type": "code",
   "execution_count": null,
   "metadata": {},
   "outputs": [],
   "source": [
    "petal_length_cat"
   ]
  },
  {
   "cell_type": "code",
   "execution_count": null,
   "metadata": {},
   "outputs": [],
   "source": []
  },
  {
   "attachments": {},
   "cell_type": "markdown",
   "metadata": {},
   "source": [
    "### 5. 如何在numpy数组中找到最常见的值？\n",
    "\n",
    "- 描述：在鸢尾属植物数据集中找到最常见的花瓣长度值（第3列）。\n",
    "\n",
    "**给定：**\n",
    "\n",
    "```python\n",
    "#Input\n",
    "url = 'https://archive.ics.uci.edu/ml/machine-learning-databases/iris/iris.data'\n",
    "iris = np.genfromtxt(url, delimiter=',', dtype='object')\n",
    "names = ('sepallength', 'sepalwidth', 'petallength', 'petalwidth', 'species')\n",
    "'''"
   ]
  },
  {
   "cell_type": "code",
   "execution_count": 9,
   "metadata": {},
   "outputs": [
    {
     "name": "stdout",
     "output_type": "stream",
     "text": [
      "b'1.5'\n"
     ]
    }
   ],
   "source": [
    "# **给定：**\n",
    "url = 'https://archive.ics.uci.edu/ml/machine-learning-databases/iris/iris.data'\n",
    "iris = np.genfromtxt(url, delimiter=',', dtype='object')\n",
    "\n",
    "# Solution:\n",
    "vals, counts = np.unique(iris[:, 2], return_counts=True)\n",
    "print(vals[np.argmax(counts)])\n",
    "# > b'1.5'"
   ]
  },
  {
   "cell_type": "code",
   "execution_count": 12,
   "metadata": {},
   "outputs": [
    {
     "data": {
      "text/plain": [
       "array([b'1.0', b'1.1', b'1.2', b'1.3', b'1.4', b'1.5', b'1.6', b'1.7',\n",
       "       b'1.9', b'3.0', b'3.3', b'3.5', b'3.6', b'3.7', b'3.8', b'3.9',\n",
       "       b'4.0', b'4.1', b'4.2', b'4.3', b'4.4', b'4.5', b'4.6', b'4.7',\n",
       "       b'4.8', b'4.9', b'5.0', b'5.1', b'5.2', b'5.3', b'5.4', b'5.5',\n",
       "       b'5.6', b'5.7', b'5.8', b'5.9', b'6.0', b'6.1', b'6.3', b'6.4',\n",
       "       b'6.6', b'6.7', b'6.9'], dtype=object)"
      ]
     },
     "execution_count": 12,
     "metadata": {},
     "output_type": "execute_result"
    }
   ],
   "source": [
    "vals"
   ]
  },
  {
   "attachments": {},
   "cell_type": "markdown",
   "metadata": {},
   "source": [
    "### 6. 如何找到numpy数组的两列之间的相关性？\n",
    "\n",
    "- 描述：在iris_2d中找出SepalLength（第1列）和PetalLength（第3列）之间的相关性\n",
    "\n",
    "**给定：**\n",
    "\n",
    "```python\n",
    "#Input\n",
    "url = 'https://archive.ics.uci.edu/ml/machine-learning-databases/iris/iris.data'\n",
    "iris = np.genfromtxt(url, delimiter=',', dtype='object')\n",
    "names = ('sepallength', 'sepalwidth', 'petallength', 'petalwidth', 'species')\n",
    "'''"
   ]
  },
  {
   "cell_type": "code",
   "execution_count": 23,
   "metadata": {},
   "outputs": [
    {
     "name": "stdout",
     "output_type": "stream",
     "text": [
      "[[1.         0.87175416]\n",
      " [0.87175416 1.        ]]\n",
      "0.8717541573048712\n",
      "0.8717541573048713 1.0384540627941062e-47\n"
     ]
    }
   ],
   "source": [
    "# Input\n",
    "url = 'https://archive.ics.uci.edu/ml/machine-learning-databases/iris/iris.data'\n",
    "iris = np.genfromtxt(url, delimiter=',', dtype='float', usecols=[0,1,2,3])\n",
    "\n",
    "# Solution 1\n",
    "#np.corrcoef : https://blog.csdn.net/qq_39514033/article/details/88931639\n",
    "cor = np.corrcoef(iris[:, 0], iris[:, 2])\n",
    "print(cor)\n",
    "print(cor[0, 1])\n",
    "\n",
    "# Solution 2\n",
    "#输出：r： 相关系数 [-1，1]之间，p-value: p值。\n",
    "#     注： p值越小，表示相关系数越显著，一般p值在500个样本以上时有较高的可靠性。\n",
    "#说明：https://www.osgeo.cn/scipy/reference/generated/scipy.stats.pearsonr.html\n",
    "from scipy.stats.stats import pearsonr  \n",
    "corr, p_value = pearsonr(iris[:, 0], iris[:, 2])\n",
    "print(corr,p_value)"
   ]
  }
 ],
 "metadata": {
  "kernelspec": {
   "display_name": "base",
   "language": "python",
   "name": "python3"
  },
  "language_info": {
   "codemirror_mode": {
    "name": "ipython",
    "version": 3
   },
   "file_extension": ".py",
   "mimetype": "text/x-python",
   "name": "python",
   "nbconvert_exporter": "python",
   "pygments_lexer": "ipython3",
   "version": "3.9.7"
  },
  "orig_nbformat": 4
 },
 "nbformat": 4,
 "nbformat_minor": 2
}
