{
 "cells": [
  {
   "cell_type": "markdown",
   "id": "3b16e4a3",
   "metadata": {},
   "source": [
    "## 本节内容：\n",
    "- 1、结构化数据类型\n",
    "- 2、字段访问"
   ]
  },
  {
   "cell_type": "markdown",
   "id": "1e0604d4",
   "metadata": {},
   "source": [
    "## 一、结构化数据类型\n",
    "\n",
    "结构化数据类型可以被认为是一定长度的字节序列（结构的项大小），它被解释为字段的集合。 每个字段在结构中都有一个名称、一个数据类型和一个字节偏移量。 字段的数据类型可以是任何 numpy 数据类型\n",
    "\n",
    "可以使用函数 numpy.dtype 创建结构化数据类型，有 4 种替代形式的规范，它们的灵活性和简洁性各不相同：\n",
    "\n",
    "### 1.1、元组列表\n",
    "\n",
    "元组列表，每个字段一个元组。每个元组都具有 (fieldname, datatype, shape) 形式，其中 shape 是可选的"
   ]
  },
  {
   "cell_type": "code",
   "execution_count": 8,
   "id": "eaae0011",
   "metadata": {},
   "outputs": [
    {
     "data": {
      "text/plain": [
       "dtype([('x', '<f4'), ('f1', '<i4'), ('f2', '<i2'), ('z', '<i8')])"
      ]
     },
     "execution_count": 8,
     "metadata": {},
     "output_type": "execute_result"
    }
   ],
   "source": [
    "import numpy as np\n",
    "np.dtype([('x', 'f4'), ('y', np.float32), ('z', 'f4', (2, 2))])\n",
    "# dtype([('x', '<f4'), ('y', '<f4'), ('z', '<f4', (2, 2))])\n",
    "\n",
    "#如果 fieldname 是空字符串 ''，则该字段将被赋予 f# 形式的默认名称\n",
    "np.dtype([('x', 'f4'), ('', 'i4'), ('', 'i2'),('z', 'i8')])"
   ]
  },
  {
   "cell_type": "markdown",
   "id": "5927cd73",
   "metadata": {},
   "source": [
    "### 1.2、一串以逗号分隔的 dtype 规格(不推荐）\n",
    "\n",
    "在这个速记符号中，任何字符串 dtype 规范都可以在字符串中使用并用逗号分隔,并且字段名称被赋予默认名称 f0、f1 等"
   ]
  },
  {
   "cell_type": "code",
   "execution_count": 5,
   "id": "636c3c27",
   "metadata": {},
   "outputs": [
    {
     "name": "stdout",
     "output_type": "stream",
     "text": [
      "[('f0', '<i8'), ('f1', '<f4'), ('f2', 'S3')]\n",
      "[('f0', 'i1', (3,)), ('f1', '<f4'), ('f2', '<f8', (2, 3))]\n"
     ]
    }
   ],
   "source": [
    "print(np.dtype('i8, f4, S3'))\n",
    "# dtype([('f0', '<i8'), ('f1', '<f4'), ('f2', 'S3')])\n",
    "\n",
    "print(np.dtype('3int8, float32, (2, 3)float64'))\n",
    "# dtype([('f0', 'i1', (3,)), ('f1', '<f4'), ('f2', '<f8', (2, 3))])"
   ]
  },
  {
   "cell_type": "markdown",
   "id": "0c722294",
   "metadata": {},
   "source": [
    "### 1.3、字段参数数组字典（常用）\n",
    "\n",
    "该字典有两个必需键，“名称”和“格式”,‘\n",
    "\n",
    "- names’ 和 ‘formats’ 的值应分别是相同长度的字段名称列表和 dtype 规范列表\n",
    "- 可选的“offsets”值应该是整数字节偏移列表，结构中的每个字段一个。 如果未给出“偏移量”，则自动确定偏移量。\n",
    "- 可选的“itemsize”值应该是一个整数，以字节为单位描述 dtype 的总大小，它必须足够大以包含所有字段"
   ]
  },
  {
   "cell_type": "code",
   "execution_count": 6,
   "id": "2f6ed54c",
   "metadata": {},
   "outputs": [
    {
     "name": "stdout",
     "output_type": "stream",
     "text": [
      "[('col1', '<i4'), ('col2', '<f4')]\n",
      "{'names': ['col1', 'col2'], 'formats': ['<i4', '<f4'], 'offsets': [0, 4], 'itemsize': 12}\n"
     ]
    }
   ],
   "source": [
    "print(np.dtype({'names': ['col1', 'col2'], 'formats': ['i4', 'f4']}))\n",
    "# dtype([('col1', '<i4'), ('col2', '<f4')])\n",
    "print(np.dtype({'names': ['col1', 'col2'],\n",
    "          'formats': ['i4', 'f4'],\n",
    "          'offsets': [0, 4],\n",
    "          'itemsize': 12}))\n",
    "# dtype({'names': ['col1', 'col2'], 'formats': ['<i4', '<f4'],\n",
    "# 'offsets': [0, 4], 'itemsize': 12})"
   ]
  },
  {
   "cell_type": "markdown",
   "id": "1557e4bc",
   "metadata": {},
   "source": [
    "### 1.4、字段名称字典\n",
    "\n",
    "字典的键是字段名，值是指定类型和偏移量的元组："
   ]
  },
  {
   "cell_type": "code",
   "execution_count": 4,
   "id": "4bbb85b9",
   "metadata": {},
   "outputs": [
    {
     "data": {
      "text/plain": [
       "dtype([('col1', 'i1'), ('col2', '<f4')])"
      ]
     },
     "execution_count": 4,
     "metadata": {},
     "output_type": "execute_result"
    }
   ],
   "source": [
    "np.dtype({'col1': ('i1', 0), 'col2': ('f4', 1)})\n",
    "# dtype([('col1', 'i1'), ('col2', '<f4')])"
   ]
  },
  {
   "cell_type": "markdown",
   "id": "b98cd94a",
   "metadata": {},
   "source": [
    "## 二、字段访问\n",
    "\n",
    "如果 ndarray 对象是结构化数组，则可以通过使用字符串索引数组来访问数组的字段，类似于字典\n",
    "\n",
    "对结构化数组的索引也可以通过字段名称列表来完成，例如 `x[['field-name1', 'field-name2']]`\n",
    "\n",
    "如果访问的字段是子数组，则子数组的维度将附加到结果的形状中。 例如："
   ]
  },
  {
   "cell_type": "markdown",
   "id": "1ac8eb64",
   "metadata": {},
   "source": [
    "### 2.1、访问单个字段"
   ]
  },
  {
   "cell_type": "code",
   "execution_count": 7,
   "id": "2faaaf2c",
   "metadata": {},
   "outputs": [
    {
     "name": "stdout",
     "output_type": "stream",
     "text": [
      "('x', 'y')\n",
      "{'x': (dtype('int64'), 0), 'y': (dtype('float32'), 8)}\n"
     ]
    }
   ],
   "source": [
    "x = np.zeros((2, 2), dtype=[('a', np.int32),\n",
    "                            ('b', np.float64, (3, 3))\n",
    "                           ])\n",
    "x\n",
    "'''\n",
    "array([[(0, [[0., 0., 0.], [0., 0., 0.], [0., 0., 0.]]),\n",
    "        (0, [[0., 0., 0.], [0., 0., 0.], [0., 0., 0.]])],\n",
    "       [(0, [[0., 0., 0.], [0., 0., 0.], [0., 0., 0.]]),\n",
    "        (0, [[0., 0., 0.], [0., 0., 0.], [0., 0., 0.]])]],\n",
    "      dtype=[('a', '<i4'), ('b', '<f8', (3, 3))])\n",
    "'''\n",
    "\n",
    "x['a'].shape\n",
    "# (2, 2)\n",
    "x['a'].dtype\n",
    "# dtype('int32')\n",
    "x['b'].shape\n",
    "# (2, 2, 3, 3)\n",
    "x['b'].dtype\n",
    "# dtype('float64')\n",
    "\n",
    "d = np.dtype([('x', 'i8'), ('y', 'f4')])\n",
    "print(d.names)\n",
    "#('x', 'y')\n",
    "print(d.fields)\n"
   ]
  },
  {
   "cell_type": "markdown",
   "id": "a8291211",
   "metadata": {},
   "source": [
    "### 2.2、访问多个字段\n",
    "\n",
    "可以索引并分配给具有多字段索引的结构化数组，其中索引是字段名称列表。"
   ]
  },
  {
   "cell_type": "code",
   "execution_count": 14,
   "id": "3a3b81de",
   "metadata": {},
   "outputs": [
    {
     "data": {
      "text/plain": [
       "array([(0, 0, 0.), (0, 0, 0.), (0, 0, 0.)],\n",
       "      dtype=[('a', '<i4'), ('b', '<i4'), ('c', '<f4')])"
      ]
     },
     "execution_count": 14,
     "metadata": {},
     "output_type": "execute_result"
    }
   ],
   "source": [
    "a = np.zeros(3, dtype=[('a', 'i4'), ('b', 'i4'), ('c', 'f4')])\n",
    "a"
   ]
  },
  {
   "cell_type": "code",
   "execution_count": 15,
   "id": "23538b18",
   "metadata": {},
   "outputs": [
    {
     "data": {
      "text/plain": [
       "array([(0, 0.), (0, 0.), (0, 0.)],\n",
       "      dtype={'names': ['a', 'c'], 'formats': ['<i4', '<f4'], 'offsets': [0, 8], 'itemsize': 12})"
      ]
     },
     "execution_count": 15,
     "metadata": {},
     "output_type": "execute_result"
    }
   ],
   "source": [
    "a[['a', 'c']]"
   ]
  },
  {
   "cell_type": "code",
   "execution_count": null,
   "id": "99ba084e",
   "metadata": {},
   "outputs": [],
   "source": []
  }
 ],
 "metadata": {
  "kernelspec": {
   "display_name": "Python 3 (ipykernel)",
   "language": "python",
   "name": "python3"
  },
  "language_info": {
   "codemirror_mode": {
    "name": "ipython",
    "version": 3
   },
   "file_extension": ".py",
   "mimetype": "text/x-python",
   "name": "python",
   "nbconvert_exporter": "python",
   "pygments_lexer": "ipython3",
   "version": "3.9.7"
  }
 },
 "nbformat": 4,
 "nbformat_minor": 5
}
