{
 "cells": [
  {
   "cell_type": "markdown",
   "id": "ce277581",
   "metadata": {},
   "source": [
    "## 本节内容：\n",
    "\n",
    "1、基本切片和索引\n",
    "\n",
    "2、数组索引\n",
    "\n",
    "3、布尔数组索引\n",
    "\n",
    "4、缺省索引\n",
    "\n",
    "5、索引数组与切片结合"
   ]
  },
  {
   "cell_type": "markdown",
   "id": "b72e0b5b",
   "metadata": {},
   "source": [
    "## 1、基本切片和索引\n",
    "\n",
    "基本切片（Basic slicing）将 Python 的基本概念扩展到 N 个维。 当 obj 是一个切片对象（由方括号内的 start:stop:step 表示法构造），整数或切片对象和整数的元组时，会产生切片操作。\n",
    "\n",
    "### 1.1、单元素索引\n",
    "\n",
    "单元素索引的工作方式与其他标准 Python 序列的工作方式完全相同。它是基于 0 的，并接受从数组末尾开始索引的负索引"
   ]
  },
  {
   "cell_type": "code",
   "execution_count": null,
   "id": "43a6d483",
   "metadata": {},
   "outputs": [],
   "source": [
    "x = np.arange(10)\n",
    "print(x)\n",
    "print(x[2])\n",
    "# 2\n",
    "print(x[-2])\n",
    "# 8\n",
    "\n",
    "x.shape = (2, 5)  # 现在x是二维的\n",
    "print(x)\n",
    "'''\n",
    "array([[0, 1, 2, 3, 4],\n",
    "       [5, 6, 7, 8, 9]])\n",
    "'''\n",
    "print(x[1, 3])\n",
    "# 8\n",
    "print(x[1, -1])\n",
    "# 9\n",
    "\n",
    "print(x[0])\n",
    "# array([0, 1, 2, 3, 4])\n",
    "\n",
    "print(x[0][2])\n",
    "# 2\n"
   ]
  },
  {
   "cell_type": "markdown",
   "id": "9f739479",
   "metadata": {},
   "source": [
    "### 1.2、切片和跨步\n",
    "\n",
    "1）基本的切片语法是 i:j:k，其中 i 是起始索引，j 是停止索引，k是步骤："
   ]
  },
  {
   "cell_type": "code",
   "execution_count": null,
   "id": "068e1701",
   "metadata": {},
   "outputs": [],
   "source": [
    "x = np.array([0, 1, 2, 3, 4, 5, 6, 7, 8, 9])\n",
    "print(x[1:7:2])\n",
    "# array([1, 3, 5])"
   ]
  },
  {
   "cell_type": "markdown",
   "id": "8de4d9da",
   "metadata": {},
   "source": [
    "2）负 i 和 j 被解释为 n+i 和 n+j，其中 n 是相应维度中的元素数。负k使步进指数变小。根据上述示例："
   ]
  },
  {
   "cell_type": "code",
   "execution_count": null,
   "id": "95830baa",
   "metadata": {},
   "outputs": [],
   "source": [
    "print(x[-2:10])\n",
    "# array([8, 9])\n",
    "print(x[-3:3:-1])\n",
    "# array([7, 6, 5, 4])"
   ]
  },
  {
   "cell_type": "markdown",
   "id": "0a3cae2d",
   "metadata": {},
   "source": [
    "3）假设n是要切片的维度中的元素数。然后，如果没有给i，k>0 时默认为0，k<0 时默认为 n-1。如果未给定j，则k>0时默认为n，k<0时默认为-n-1。如果未指定k，则默认为1。注意 ::与 : 相同，表示选择沿该轴的所有索引"
   ]
  },
  {
   "cell_type": "code",
   "execution_count": null,
   "id": "f71dbda1",
   "metadata": {},
   "outputs": [],
   "source": [
    "print(x[5:])\n",
    "# array([5, 6, 7, 8, 9])"
   ]
  },
  {
   "cell_type": "markdown",
   "id": "d8a9956d",
   "metadata": {},
   "source": [
    "4）如果选择元组中的对象数小于 N，则 : 假定后继的任意维。例如："
   ]
  },
  {
   "cell_type": "code",
   "execution_count": null,
   "id": "eb06f2e8",
   "metadata": {},
   "outputs": [],
   "source": [
    "x = np.array([[[1],[2],[3]], [[4],[5],[6]]])\n",
    "print(x.shape)\n",
    "# (2, 3, 1)\n",
    "print(x[1:2])\n",
    "'''\n",
    "array([[[4],\n",
    "        [5],\n",
    "        [6]]])\n",
    "'''"
   ]
  },
  {
   "cell_type": "markdown",
   "id": "96a0d68b",
   "metadata": {},
   "source": [
    "## 2、数组索引\n",
    "\n",
    "整数数组索引允许根据数组中的任意项的 N 维索引来选择它们。每个整数数组表示该维度中的多个索引。\n",
    "\n",
    "索引数组中允许出现负值，并且与处理单个索引或切片时一样："
   ]
  },
  {
   "cell_type": "code",
   "execution_count": null,
   "id": "875bb86b",
   "metadata": {},
   "outputs": [],
   "source": [
    "x = np.arange(10, 1, -1)\n",
    "print(x)\n",
    "# array([10,  9,  8,  7,  6,  5,  4,  3,  2])\n",
    "print(x[np.array([3, 3, 1, 8])])\n",
    "# array([7, 7, 9, 2])\n",
    "print(x[np.array([3, 3, -3, 8])])\n",
    "# array([7, 7, 4, 2])"
   ]
  },
  {
   "cell_type": "markdown",
   "id": "08aaac8a",
   "metadata": {},
   "source": [
    "如果索引值超出界限，则引发 IndexError："
   ]
  },
  {
   "cell_type": "code",
   "execution_count": null,
   "id": "200278da",
   "metadata": {},
   "outputs": [],
   "source": [
    "x = np.array([[1, 2], [3, 4], [5, 6]])\n",
    "print(x[np.array([1, -1])])\n",
    "'''\n",
    "array([[3, 4],\n",
    "      [5, 6]])\n",
    "'''\n",
    "\n",
    "print(x[np.array([3, 6])])\n",
    "'''\n",
    "Traceback (most recent call last):\n",
    "  ...\n",
    "IndexError: index 3 is out of bounds for axis 0 with size 3\n",
    "'''"
   ]
  },
  {
   "cell_type": "markdown",
   "id": "c907b50d",
   "metadata": {},
   "source": [
    "## 3、布尔数组索引\n",
    "\n",
    "当obj是布尔类型的数组对象（可能从比较运算返回）时，会发生这种高级索引\n",
    "\n",
    "案例：可能希望从非NaN的数组中选择所有条目："
   ]
  },
  {
   "cell_type": "code",
   "execution_count": null,
   "id": "bfdad019",
   "metadata": {},
   "outputs": [],
   "source": [
    "x = np.array([[1., 2.], [np.nan, 3.], [np.nan, np.nan]])\n",
    "print(x[~np.isnan(x)])\n",
    "# array([1., 2., 3.])"
   ]
  },
  {
   "cell_type": "markdown",
   "id": "475c42cf",
   "metadata": {},
   "source": [
    "或者希望为所有负元素添加一个常量："
   ]
  },
  {
   "cell_type": "code",
   "execution_count": null,
   "id": "be252a8f",
   "metadata": {},
   "outputs": [],
   "source": [
    "x = np.array([1., -1., -2., 3])\n",
    "x[x < 0] += 20\n",
    "print(x)\n",
    "# array([ 1., 19., 18., 3.])\n",
    "\n",
    "x = np.arange(35).reshape(5, 7)\n",
    "b = x > 20\n",
    "print(b[:, 5])\n",
    "# array([False, False, False,  True,  True])\n",
    "print(x[b[:, 5]])\n",
    "'''\n",
    "array([[21, 22, 23, 24, 25, 26, 27],\n",
    "      [28, 29, 30, 31, 32, 33, 34]])\n",
    "'''"
   ]
  },
  {
   "cell_type": "markdown",
   "id": "03ab3035",
   "metadata": {},
   "source": [
    "## 4、缺省索引\n",
    "\n",
    "不完全索引是从多维数组的第一个维度获取索引或切片的一种方便方法"
   ]
  },
  {
   "cell_type": "code",
   "execution_count": null,
   "id": "78afab7b",
   "metadata": {},
   "outputs": [],
   "source": [
    "a = np.arange(0, 100, 10)\n",
    "b = a[:5]\n",
    "c = a[a >= 50]\n",
    "print(b) # >>>[ 0 10 20 30 40]\n",
    "print(c) # >>>[50 60 70 80 90]"
   ]
  },
  {
   "cell_type": "markdown",
   "id": "b8a73f9a",
   "metadata": {},
   "source": [
    "## 5、索引数组与切片结合\n",
    "\n",
    "索引数组可以与切片组合。例如："
   ]
  },
  {
   "cell_type": "code",
   "execution_count": null,
   "id": "80aeb014",
   "metadata": {},
   "outputs": [],
   "source": [
    "y[np.array([0, 2, 4]), 1:3]\n",
    "array([[ 1,  2],\n",
    "       [15, 16],\n",
    "       [29, 30]])"
   ]
  },
  {
   "cell_type": "markdown",
   "id": "6b2b33af",
   "metadata": {},
   "source": [
    "实际上，切片和索引数组操作是独立的。切片操作提取索引为 1 和 2 的列（即第 2 和第 3 列），然后是索引数组操作提取索引为 0、2 和 4 的行（即第一、第三和第五行）。"
   ]
  },
  {
   "cell_type": "code",
   "execution_count": null,
   "id": "b1081f51",
   "metadata": {},
   "outputs": [],
   "source": []
  }
 ],
 "metadata": {
  "kernelspec": {
   "display_name": "Python 3 (ipykernel)",
   "language": "python",
   "name": "python3"
  },
  "language_info": {
   "codemirror_mode": {
    "name": "ipython",
    "version": 3
   },
   "file_extension": ".py",
   "mimetype": "text/x-python",
   "name": "python",
   "nbconvert_exporter": "python",
   "pygments_lexer": "ipython3",
   "version": "3.9.7"
  }
 },
 "nbformat": 4,
 "nbformat_minor": 5
}
