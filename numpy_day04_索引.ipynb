{
 "cells": [
  {
   "cell_type": "markdown",
   "id": "7b2d956b",
   "metadata": {},
   "source": [
    "## 本节内容：\n",
    "\n",
    "1、基本切片和索引\n",
    "\n",
    "2、数组索引(重要）\n",
    "\n",
    "3、布尔数组索引\n",
    "\n",
    "4、缺省索引\n",
    "\n",
    "5、索引数组与切片结合（重要）"
   ]
  },
  {
   "cell_type": "markdown",
   "id": "b6415685",
   "metadata": {},
   "source": [
    "## 1、基本切片和索引\n",
    "\n",
    "基本切片（Basic slicing）将 Python 的基本概念扩展到 N 个维。 当 obj 是一个切片对象（由方括号内的 start:stop:step 表示法构造），整数或切片对象和整数的元组时，会产生切片操作。\n",
    "\n",
    "### 1.1、单元素索引\n",
    "\n",
    "单元素索引的工作方式与其他标准 Python 序列的工作方式完全相同。它是基于 0 的，并接受从数组末尾开始索引的负索引"
   ]
  },
  {
   "cell_type": "code",
   "execution_count": 41,
   "id": "4aef5f6e",
   "metadata": {},
   "outputs": [
    {
     "name": "stdout",
     "output_type": "stream",
     "text": [
      "[0 1 2 3 4 5 6 7 8 9]\n",
      "2\n",
      "8\n",
      "[[0 1 2 3 4]\n",
      " [5 6 7 8 9]]\n",
      "8\n",
      "9\n",
      "==========\n",
      "[0 1 2 3 4]\n",
      "[0 1 2 3 4]\n",
      "2\n"
     ]
    }
   ],
   "source": [
    "import numpy as np\n",
    "\n",
    "#一维\n",
    "x = np.arange(10)\n",
    "print(x)\n",
    "print(x[2])\n",
    "# 2\n",
    "print(x[-2])\n",
    "# 8\n",
    "\n",
    "# 现在x是二维的\n",
    "x.shape = (2, 5)  \n",
    "print(x)\n",
    "'''\n",
    "array([[0, 1, 2, 3, 4],\n",
    "       [5, 6, 7, 8, 9]])\n",
    "'''\n",
    "print(x[1, 3])\n",
    "# 8\n",
    "print(x[1, -1])\n",
    "# 9\n",
    "print(\"==========\")\n",
    "print(x[0])\n",
    "print(x[0,:]) #同上\n",
    "# array([0, 1, 2, 3, 4])\n",
    "\n",
    "print(x[0][2])\n",
    "# 2\n"
   ]
  },
  {
   "cell_type": "markdown",
   "id": "26a56c1e",
   "metadata": {},
   "source": [
    "### 1.2、切片和跨步\n",
    "\n",
    "1）基本的切片语法是 i:j:k，其中 i 是起始索引，j 是停止索引，k是步骤："
   ]
  },
  {
   "cell_type": "code",
   "execution_count": 2,
   "id": "5512ca93",
   "metadata": {},
   "outputs": [
    {
     "name": "stdout",
     "output_type": "stream",
     "text": [
      "[1 3 5]\n"
     ]
    }
   ],
   "source": [
    "x = np.array([0, 1, 2, 3, 4, 5, 6, 7, 8, 9])\n",
    "print(x[1:7:2])\n",
    "# array([1, 3, 5])"
   ]
  },
  {
   "cell_type": "markdown",
   "id": "66d49a24",
   "metadata": {},
   "source": [
    "2）负 i 和 j 被解释为 n+i 和 n+j，其中 n 是相应维度中的元素数。负k使步进指数变小。根据上述示例："
   ]
  },
  {
   "cell_type": "code",
   "execution_count": 3,
   "id": "8b028e4d",
   "metadata": {},
   "outputs": [
    {
     "name": "stdout",
     "output_type": "stream",
     "text": [
      "[8 9]\n",
      "[7 6 5 4]\n"
     ]
    }
   ],
   "source": [
    "print(x[-2:10])\n",
    "# array([8, 9])\n",
    "print(x[-3:3:-1])\n",
    "# array([7, 6, 5, 4])"
   ]
  },
  {
   "cell_type": "markdown",
   "id": "25ab82fa",
   "metadata": {},
   "source": [
    "3）假设n是要切片的维度中的元素数。然后，如果没有给i，k>0 时默认为0，k<0 时默认为 n-1。如果未给定j，则k>0时默认为n，k<0时默认为-n-1。如果未指定k，则默认为1。注意 ::与 : 相同，表示选择沿该轴的所有索引"
   ]
  },
  {
   "cell_type": "code",
   "execution_count": 4,
   "id": "a448fca6",
   "metadata": {},
   "outputs": [
    {
     "name": "stdout",
     "output_type": "stream",
     "text": [
      "[5 6 7 8 9]\n"
     ]
    }
   ],
   "source": [
    "print(x[5:])\n",
    "# array([5, 6, 7, 8, 9])"
   ]
  },
  {
   "cell_type": "markdown",
   "id": "5fa10b2f",
   "metadata": {},
   "source": [
    "4）如果选择元组中的对象数小于 N，则 : 假定后继的任意维。例如："
   ]
  },
  {
   "cell_type": "code",
   "execution_count": 43,
   "id": "54f0ec7a",
   "metadata": {},
   "outputs": [
    {
     "name": "stdout",
     "output_type": "stream",
     "text": [
      "(2, 3, 1)\n",
      "[[6]]\n",
      "[[6]]\n",
      "[[6]]\n"
     ]
    }
   ],
   "source": [
    "x = np.array([[[1],[2],[3]], \n",
    "              [[4],[5],[6]]])\n",
    "print(x.shape)\n",
    "# (2, 3, 1)\n",
    "print(x[1:2,2])\n",
    "print(x[1:2,2,])\n",
    "print(x[1:,2])"
   ]
  },
  {
   "cell_type": "markdown",
   "id": "b3bda1fa",
   "metadata": {},
   "source": [
    "## 2、数组索引\n",
    "\n",
    "整数数组索引允许根据数组中的任意项的 N 维索引来选择它们。每个整数数组表示该维度中的多个索引。\n",
    "\n",
    "索引数组中允许出现负值，并且与处理单个索引或切片时一样："
   ]
  },
  {
   "cell_type": "code",
   "execution_count": 6,
   "id": "e9c83f51",
   "metadata": {},
   "outputs": [
    {
     "name": "stdout",
     "output_type": "stream",
     "text": [
      "[10  9  8  7  6  5  4  3  2]\n",
      "[7 7 9 2]\n",
      "[7 7 4 2]\n"
     ]
    }
   ],
   "source": [
    "x = np.arange(10, 1, -1)\n",
    "print(x)\n",
    "# array([10,  9,  8,  7,  6,  5,  4,  3,  2])\n",
    "print(x[np.array([3, 3, 1, 8])])\n",
    "# array([7, 7, 9, 2])\n",
    "print(x[np.array([3, 3, -3, 8])])\n",
    "# array([7, 7, 4, 2])"
   ]
  },
  {
   "cell_type": "markdown",
   "id": "26d5e533",
   "metadata": {},
   "source": [
    "如果索引值超出界限，则引发 IndexError："
   ]
  },
  {
   "cell_type": "code",
   "execution_count": 44,
   "id": "fb18f6bf",
   "metadata": {},
   "outputs": [
    {
     "name": "stdout",
     "output_type": "stream",
     "text": [
      "[ 1 -1]\n",
      "4\n",
      "==========\n",
      "[[3 4]\n",
      " [5 6]]\n",
      "[[3 4]\n",
      " [5 6]]\n"
     ]
    },
    {
     "ename": "IndexError",
     "evalue": "index 3 is out of bounds for axis 0 with size 3",
     "output_type": "error",
     "traceback": [
      "\u001b[1;31m---------------------------------------------------------------------------\u001b[0m",
      "\u001b[1;31mIndexError\u001b[0m                                Traceback (most recent call last)",
      "\u001b[1;32m~\\AppData\\Local\\Temp/ipykernel_16768/1734870626.py\u001b[0m in \u001b[0;36m<module>\u001b[1;34m\u001b[0m\n\u001b[0;32m      9\u001b[0m \u001b[1;33m\u001b[0m\u001b[0m\n\u001b[0;32m     10\u001b[0m \u001b[1;33m\u001b[0m\u001b[0m\n\u001b[1;32m---> 11\u001b[1;33m \u001b[0mprint\u001b[0m\u001b[1;33m(\u001b[0m\u001b[0mx\u001b[0m\u001b[1;33m[\u001b[0m\u001b[0mnp\u001b[0m\u001b[1;33m.\u001b[0m\u001b[0marray\u001b[0m\u001b[1;33m(\u001b[0m\u001b[1;33m[\u001b[0m\u001b[1;36m3\u001b[0m\u001b[1;33m,\u001b[0m \u001b[1;36m6\u001b[0m\u001b[1;33m]\u001b[0m\u001b[1;33m)\u001b[0m\u001b[1;33m]\u001b[0m\u001b[1;33m)\u001b[0m\u001b[1;33m\u001b[0m\u001b[1;33m\u001b[0m\u001b[0m\n\u001b[0m\u001b[0;32m     12\u001b[0m '''\n\u001b[0;32m     13\u001b[0m \u001b[0mTraceback\u001b[0m \u001b[1;33m(\u001b[0m\u001b[0mmost\u001b[0m \u001b[0mrecent\u001b[0m \u001b[0mcall\u001b[0m \u001b[0mlast\u001b[0m\u001b[1;33m)\u001b[0m\u001b[1;33m:\u001b[0m\u001b[1;33m\u001b[0m\u001b[1;33m\u001b[0m\u001b[0m\n",
      "\u001b[1;31mIndexError\u001b[0m: index 3 is out of bounds for axis 0 with size 3"
     ]
    }
   ],
   "source": [
    "x = np.array([[1, 2], \n",
    "              [3, 4], \n",
    "              [5, 6]])\n",
    "print(np.array([1, -1]))\n",
    "print(x[1,-1])\n",
    "print(\"==========\")\n",
    "print(x[np.array([1, -1])])\n",
    "print(x[1:,:])\n",
    "\n",
    "\n",
    "print(x[np.array([3, 6])])\n",
    "'''\n",
    "Traceback (most recent call last):\n",
    "  ...\n",
    "IndexError: index 3 is out of bounds for axis 0 with size 3\n",
    "'''"
   ]
  },
  {
   "cell_type": "markdown",
   "id": "99dd1199",
   "metadata": {},
   "source": [
    "## 3、布尔数组索引\n",
    "\n",
    "当obj是布尔类型的数组对象（可能从比较运算返回）时，会发生这种高级索引\n",
    "\n",
    "案例：可能希望从非NaN的数组中选择所有条目："
   ]
  },
  {
   "cell_type": "code",
   "execution_count": 33,
   "id": "61a49560",
   "metadata": {},
   "outputs": [
    {
     "name": "stdout",
     "output_type": "stream",
     "text": [
      "[[ True  True]\n",
      " [False  True]\n",
      " [False False]]\n",
      "[1. 2. 3.]\n"
     ]
    }
   ],
   "source": [
    "x = np.array([[1., 2.], [np.nan, 3.], [np.nan, np.nan]])\n",
    "print(~np.isnan(x))\n",
    "print(x[~np.isnan(x)])\n",
    "# array([1., 2., 3.])"
   ]
  },
  {
   "cell_type": "markdown",
   "id": "93e6538d",
   "metadata": {},
   "source": [
    "或者希望为所有负元素添加一个常量："
   ]
  },
  {
   "cell_type": "code",
   "execution_count": 39,
   "id": "afa8c864",
   "metadata": {},
   "outputs": [
    {
     "name": "stdout",
     "output_type": "stream",
     "text": [
      "[ 1. 19. 18.  3.]\n",
      "[[ 0  1  2  3  4  5  6]\n",
      " [ 7  8  9 10 11 12 13]\n",
      " [14 15 16 17 18 19 20]\n",
      " [21 22 23 24 25 26 27]\n",
      " [28 29 30 31 32 33 34]]\n",
      "[[False False False False False False False]\n",
      " [False False False False False False False]\n",
      " [False False False False False False False]\n",
      " [ True  True  True  True  True  True  True]\n",
      " [ True  True  True  True  True  True  True]]\n",
      "[False False False  True  True]\n",
      "[[21 22 23 24 25 26 27]\n",
      " [28 29 30 31 32 33 34]]\n"
     ]
    }
   ],
   "source": [
    "x = np.array([1., -1., -2., 3])\n",
    "x[x < 0] += 20\n",
    "print(x)\n",
    "# array([ 1., 19., 18., 3.])\n",
    "\n",
    "x = np.arange(35).reshape(5, 7)\n",
    "print(x)\n",
    "b = x > 20\n",
    "print(b)\n",
    "print(b[:, 5])\n",
    "# array([False, False, False,  True,  True])\n",
    "print(x[b[:, 5]])\n"
   ]
  },
  {
   "cell_type": "markdown",
   "id": "30bf111b",
   "metadata": {},
   "source": [
    "## 4、缺省索引\n",
    "\n",
    "不完全索引是从多维数组的第一个维度获取索引或切片的一种方便方法"
   ]
  },
  {
   "cell_type": "code",
   "execution_count": 37,
   "id": "6bd24e5f",
   "metadata": {},
   "outputs": [
    {
     "name": "stdout",
     "output_type": "stream",
     "text": [
      "[ 0 10 20 30 40 50 60 70 80 90]\n",
      "[ 0 10 20 30 40]\n",
      "[50 60 70 80 90]\n"
     ]
    }
   ],
   "source": [
    "a = np.arange(0, 100, 10)\n",
    "print(a)\n",
    "b = a[:5]\n",
    "c = a[a >= 50]\n",
    "print(b) # >>>[ 0 10 20 30 40]\n",
    "print(c) # >>>[50 60 70 80 90]"
   ]
  },
  {
   "cell_type": "markdown",
   "id": "87eddc27",
   "metadata": {},
   "source": [
    "## 5、索引数组与切片结合\n",
    "\n",
    "索引数组可以与切片组合。例如："
   ]
  },
  {
   "cell_type": "code",
   "execution_count": 36,
   "id": "d6422f46",
   "metadata": {},
   "outputs": [
    {
     "name": "stdout",
     "output_type": "stream",
     "text": [
      "[[ 0  1  2  3  4  5  6]\n",
      " [ 7  8  9 10 11 12 13]\n",
      " [14 15 16 17 18 19 20]\n",
      " [21 22 23 24 25 26 27]\n",
      " [28 29 30 31 32 33 34]]\n",
      "===========\n",
      "[[ 1  2]\n",
      " [15 16]\n",
      " [29 30]]\n"
     ]
    }
   ],
   "source": [
    "y = np.arange(35).reshape(5,7)\n",
    "print(y)\n",
    "print(\"===========\")\n",
    "print(y[np.array([0, 2, 4]), 1:3])\n"
   ]
  },
  {
   "cell_type": "markdown",
   "id": "887d64bf",
   "metadata": {},
   "source": [
    "实际上，切片和索引数组操作是独立的。切片操作提取索引为 1 和 2 的列（即第 2 和第 3 列），然后是索引数组操作提取索引为 0、2 和 4 的行（即第一、第三和第五行）。"
   ]
  },
  {
   "cell_type": "code",
   "execution_count": null,
   "id": "1b05c7f5",
   "metadata": {},
   "outputs": [],
   "source": []
  }
 ],
 "metadata": {
  "kernelspec": {
   "display_name": "Python 3 (ipykernel)",
   "language": "python",
   "name": "python3"
  },
  "language_info": {
   "codemirror_mode": {
    "name": "ipython",
    "version": 3
   },
   "file_extension": ".py",
   "mimetype": "text/x-python",
   "name": "python",
   "nbconvert_exporter": "python",
   "pygments_lexer": "ipython3",
   "version": "3.9.7"
  }
 },
 "nbformat": 4,
 "nbformat_minor": 5
}
